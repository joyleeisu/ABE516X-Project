{
 "cells": [
  {
   "cell_type": "markdown",
   "metadata": {},
   "source": [
    "# ABE 416X Project:\n",
    "## Monthly Temperature Prediction Tool for Tourists Travel in U.S.\n",
    "There are large amount of tourists traveling in the U.S. from all over the world. But for the people that's first time visiting the city or even first time come to America, they would have no idea about the weather, especially temperature, of the destination at the time they plan to travel. Moreover, some tourists might want to travel sometime and somewhere warm or cool, then it will be essential to know the average temperature of certain city and month to make travel plan. This tool is predicting the maximum, minimum, and average temperatures of the user's interest city and month. It will also display a histogram of 12 monthes average temperature in a year for the interested city to help the visitor to make travel plan. \n",
    "\n",
    "### Part 1: Data Scrambling & Analysis"
   ]
  },
  {
   "cell_type": "code",
   "execution_count": 1,
   "metadata": {},
   "outputs": [],
   "source": [
    "import numpy as np\n",
    "import pandas as pd\n",
    "import matplotlib.pyplot as plt\n",
    "%matplotlib inline\n",
    "import seaborn as sns\n",
    "import sklearn as sk\n",
    "import sklearn.datasets as skd\n",
    "import sklearn.ensemble as ske\n",
    "from sklearn.metrics import explained_variance_score, mean_absolute_error, mean_squared_error, r2_score"
   ]
  },
  {
   "cell_type": "code",
   "execution_count": 2,
   "metadata": {
    "scrolled": false
   },
   "outputs": [
    {
     "data": {
      "text/html": [
       "<div>\n",
       "<style scoped>\n",
       "    .dataframe tbody tr th:only-of-type {\n",
       "        vertical-align: middle;\n",
       "    }\n",
       "\n",
       "    .dataframe tbody tr th {\n",
       "        vertical-align: top;\n",
       "    }\n",
       "\n",
       "    .dataframe thead th {\n",
       "        text-align: right;\n",
       "    }\n",
       "</style>\n",
       "<table border=\"1\" class=\"dataframe\">\n",
       "  <thead>\n",
       "    <tr style=\"text-align: right;\">\n",
       "      <th></th>\n",
       "      <th>Date</th>\n",
       "      <th>ppt (mm)</th>\n",
       "      <th>tmin (degrees C)</th>\n",
       "      <th>tmean (degrees C)</th>\n",
       "      <th>tmax (degrees C)</th>\n",
       "    </tr>\n",
       "  </thead>\n",
       "  <tbody>\n",
       "    <tr>\n",
       "      <th>0</th>\n",
       "      <td>1999-01</td>\n",
       "      <td>27.43</td>\n",
       "      <td>-13.2</td>\n",
       "      <td>-9.0</td>\n",
       "      <td>-4.7</td>\n",
       "    </tr>\n",
       "    <tr>\n",
       "      <th>1</th>\n",
       "      <td>1999-02</td>\n",
       "      <td>16.42</td>\n",
       "      <td>-4.2</td>\n",
       "      <td>0.3</td>\n",
       "      <td>4.9</td>\n",
       "    </tr>\n",
       "    <tr>\n",
       "      <th>2</th>\n",
       "      <td>1999-03</td>\n",
       "      <td>26.09</td>\n",
       "      <td>-3.6</td>\n",
       "      <td>2.4</td>\n",
       "      <td>8.4</td>\n",
       "    </tr>\n",
       "    <tr>\n",
       "      <th>3</th>\n",
       "      <td>1999-04</td>\n",
       "      <td>142.35</td>\n",
       "      <td>4.4</td>\n",
       "      <td>9.7</td>\n",
       "      <td>14.9</td>\n",
       "    </tr>\n",
       "    <tr>\n",
       "      <th>4</th>\n",
       "      <td>1999-05</td>\n",
       "      <td>140.68</td>\n",
       "      <td>10.6</td>\n",
       "      <td>16.0</td>\n",
       "      <td>21.3</td>\n",
       "    </tr>\n",
       "  </tbody>\n",
       "</table>\n",
       "</div>"
      ],
      "text/plain": [
       "      Date  ppt (mm)  tmin (degrees C)  tmean (degrees C)  tmax (degrees C)\n",
       "0  1999-01     27.43             -13.2               -9.0              -4.7\n",
       "1  1999-02     16.42              -4.2                0.3               4.9\n",
       "2  1999-03     26.09              -3.6                2.4               8.4\n",
       "3  1999-04    142.35               4.4                9.7              14.9\n",
       "4  1999-05    140.68              10.6               16.0              21.3"
      ]
     },
     "execution_count": 2,
     "metadata": {},
     "output_type": "execute_result"
    }
   ],
   "source": [
    "# Import data file\n",
    "df = pd.read_csv('ames_99-18.csv')\n",
    "df.head()"
   ]
  },
  {
   "cell_type": "code",
   "execution_count": 3,
   "metadata": {
    "scrolled": true
   },
   "outputs": [
    {
     "name": "stdout",
     "output_type": "stream",
     "text": [
      "The shape of our features is: (240, 5)\n"
     ]
    }
   ],
   "source": [
    "# Shape of the data\n",
    "print('The shape of our features is:', df.shape)"
   ]
  },
  {
   "cell_type": "markdown",
   "metadata": {},
   "source": [
    "Seperate date to year and month."
   ]
  },
  {
   "cell_type": "code",
   "execution_count": 4,
   "metadata": {},
   "outputs": [],
   "source": [
    "# Split year and month\n",
    "date = df[\"Date\"].str.split(\"-\", n = 1, expand = True)\n",
    "df[\"Year\"]= date[0]\n",
    "df[\"Month\"]= date[1]"
   ]
  },
  {
   "cell_type": "code",
   "execution_count": 6,
   "metadata": {},
   "outputs": [
    {
     "data": {
      "text/html": [
       "<div>\n",
       "<style scoped>\n",
       "    .dataframe tbody tr th:only-of-type {\n",
       "        vertical-align: middle;\n",
       "    }\n",
       "\n",
       "    .dataframe tbody tr th {\n",
       "        vertical-align: top;\n",
       "    }\n",
       "\n",
       "    .dataframe thead th {\n",
       "        text-align: right;\n",
       "    }\n",
       "</style>\n",
       "<table border=\"1\" class=\"dataframe\">\n",
       "  <thead>\n",
       "    <tr style=\"text-align: right;\">\n",
       "      <th></th>\n",
       "      <th>Date</th>\n",
       "      <th>ppt (mm)</th>\n",
       "      <th>tmin (degrees C)</th>\n",
       "      <th>tmean (degrees C)</th>\n",
       "      <th>tmax (degrees C)</th>\n",
       "      <th>Year</th>\n",
       "      <th>Month</th>\n",
       "    </tr>\n",
       "  </thead>\n",
       "  <tbody>\n",
       "    <tr>\n",
       "      <th>0</th>\n",
       "      <td>1999-01</td>\n",
       "      <td>27.43</td>\n",
       "      <td>-13.2</td>\n",
       "      <td>-9.0</td>\n",
       "      <td>-4.7</td>\n",
       "      <td>1999</td>\n",
       "      <td>01</td>\n",
       "    </tr>\n",
       "    <tr>\n",
       "      <th>1</th>\n",
       "      <td>1999-02</td>\n",
       "      <td>16.42</td>\n",
       "      <td>-4.2</td>\n",
       "      <td>0.3</td>\n",
       "      <td>4.9</td>\n",
       "      <td>1999</td>\n",
       "      <td>02</td>\n",
       "    </tr>\n",
       "    <tr>\n",
       "      <th>2</th>\n",
       "      <td>1999-03</td>\n",
       "      <td>26.09</td>\n",
       "      <td>-3.6</td>\n",
       "      <td>2.4</td>\n",
       "      <td>8.4</td>\n",
       "      <td>1999</td>\n",
       "      <td>03</td>\n",
       "    </tr>\n",
       "    <tr>\n",
       "      <th>3</th>\n",
       "      <td>1999-04</td>\n",
       "      <td>142.35</td>\n",
       "      <td>4.4</td>\n",
       "      <td>9.7</td>\n",
       "      <td>14.9</td>\n",
       "      <td>1999</td>\n",
       "      <td>04</td>\n",
       "    </tr>\n",
       "    <tr>\n",
       "      <th>4</th>\n",
       "      <td>1999-05</td>\n",
       "      <td>140.68</td>\n",
       "      <td>10.6</td>\n",
       "      <td>16.0</td>\n",
       "      <td>21.3</td>\n",
       "      <td>1999</td>\n",
       "      <td>05</td>\n",
       "    </tr>\n",
       "  </tbody>\n",
       "</table>\n",
       "</div>"
      ],
      "text/plain": [
       "      Date  ppt (mm)  tmin (degrees C)  tmean (degrees C)  tmax (degrees C)  \\\n",
       "0  1999-01     27.43             -13.2               -9.0              -4.7   \n",
       "1  1999-02     16.42              -4.2                0.3               4.9   \n",
       "2  1999-03     26.09              -3.6                2.4               8.4   \n",
       "3  1999-04    142.35               4.4                9.7              14.9   \n",
       "4  1999-05    140.68              10.6               16.0              21.3   \n",
       "\n",
       "   Year Month  \n",
       "0  1999    01  \n",
       "1  1999    02  \n",
       "2  1999    03  \n",
       "3  1999    04  \n",
       "4  1999    05  "
      ]
     },
     "execution_count": 6,
     "metadata": {},
     "output_type": "execute_result"
    }
   ],
   "source": [
    "df.head()"
   ]
  },
  {
   "cell_type": "code",
   "execution_count": 7,
   "metadata": {},
   "outputs": [
    {
     "data": {
      "text/plain": [
       "Date                 False\n",
       "ppt (mm)             False\n",
       "tmin (degrees C)     False\n",
       "tmean (degrees C)    False\n",
       "tmax (degrees C)     False\n",
       "Year                 False\n",
       "Month                False\n",
       "dtype: bool"
      ]
     },
     "execution_count": 7,
     "metadata": {},
     "output_type": "execute_result"
    }
   ],
   "source": [
    "# Check if there are any N/As\n",
    "pd.isnull(df).any()"
   ]
  },
  {
   "cell_type": "code",
   "execution_count": 8,
   "metadata": {},
   "outputs": [
    {
     "data": {
      "text/plain": [
       "Date                 0\n",
       "ppt (mm)             0\n",
       "tmin (degrees C)     0\n",
       "tmean (degrees C)    0\n",
       "tmax (degrees C)     0\n",
       "Year                 0\n",
       "Month                0\n",
       "dtype: int64"
      ]
     },
     "execution_count": 8,
     "metadata": {},
     "output_type": "execute_result"
    }
   ],
   "source": [
    "# Another way to check for N/As\n",
    "pd.isnull(df).sum()"
   ]
  },
  {
   "cell_type": "code",
   "execution_count": 9,
   "metadata": {},
   "outputs": [
    {
     "data": {
      "text/html": [
       "<div>\n",
       "<style scoped>\n",
       "    .dataframe tbody tr th:only-of-type {\n",
       "        vertical-align: middle;\n",
       "    }\n",
       "\n",
       "    .dataframe tbody tr th {\n",
       "        vertical-align: top;\n",
       "    }\n",
       "\n",
       "    .dataframe thead th {\n",
       "        text-align: right;\n",
       "    }\n",
       "</style>\n",
       "<table border=\"1\" class=\"dataframe\">\n",
       "  <thead>\n",
       "    <tr style=\"text-align: right;\">\n",
       "      <th></th>\n",
       "      <th>ppt (mm)</th>\n",
       "      <th>tmin (degrees C)</th>\n",
       "      <th>tmean (degrees C)</th>\n",
       "      <th>tmax (degrees C)</th>\n",
       "    </tr>\n",
       "  </thead>\n",
       "  <tbody>\n",
       "    <tr>\n",
       "      <th>count</th>\n",
       "      <td>240.000000</td>\n",
       "      <td>240.000000</td>\n",
       "      <td>240.000000</td>\n",
       "      <td>240.000000</td>\n",
       "    </tr>\n",
       "    <tr>\n",
       "      <th>mean</th>\n",
       "      <td>76.322458</td>\n",
       "      <td>3.400833</td>\n",
       "      <td>9.116667</td>\n",
       "      <td>14.831667</td>\n",
       "    </tr>\n",
       "    <tr>\n",
       "      <th>std</th>\n",
       "      <td>59.160344</td>\n",
       "      <td>10.475610</td>\n",
       "      <td>10.833053</td>\n",
       "      <td>11.239504</td>\n",
       "    </tr>\n",
       "    <tr>\n",
       "      <th>min</th>\n",
       "      <td>1.180000</td>\n",
       "      <td>-17.800000</td>\n",
       "      <td>-12.800000</td>\n",
       "      <td>-7.800000</td>\n",
       "    </tr>\n",
       "    <tr>\n",
       "      <th>25%</th>\n",
       "      <td>32.232500</td>\n",
       "      <td>-5.300000</td>\n",
       "      <td>-0.425000</td>\n",
       "      <td>4.425000</td>\n",
       "    </tr>\n",
       "    <tr>\n",
       "      <th>50%</th>\n",
       "      <td>60.060000</td>\n",
       "      <td>3.850000</td>\n",
       "      <td>10.350000</td>\n",
       "      <td>16.900000</td>\n",
       "    </tr>\n",
       "    <tr>\n",
       "      <th>75%</th>\n",
       "      <td>105.452500</td>\n",
       "      <td>13.750000</td>\n",
       "      <td>19.625000</td>\n",
       "      <td>25.725000</td>\n",
       "    </tr>\n",
       "    <tr>\n",
       "      <th>max</th>\n",
       "      <td>307.320000</td>\n",
       "      <td>20.100000</td>\n",
       "      <td>25.900000</td>\n",
       "      <td>32.500000</td>\n",
       "    </tr>\n",
       "  </tbody>\n",
       "</table>\n",
       "</div>"
      ],
      "text/plain": [
       "         ppt (mm)  tmin (degrees C)  tmean (degrees C)  tmax (degrees C)\n",
       "count  240.000000        240.000000         240.000000        240.000000\n",
       "mean    76.322458          3.400833           9.116667         14.831667\n",
       "std     59.160344         10.475610          10.833053         11.239504\n",
       "min      1.180000        -17.800000         -12.800000         -7.800000\n",
       "25%     32.232500         -5.300000          -0.425000          4.425000\n",
       "50%     60.060000          3.850000          10.350000         16.900000\n",
       "75%    105.452500         13.750000          19.625000         25.725000\n",
       "max    307.320000         20.100000          25.900000         32.500000"
      ]
     },
     "execution_count": 9,
     "metadata": {},
     "output_type": "execute_result"
    }
   ],
   "source": [
    "# Show data description\n",
    "df.describe()"
   ]
  },
  {
   "cell_type": "code",
   "execution_count": 10,
   "metadata": {
    "scrolled": false
   },
   "outputs": [
    {
     "data": {
      "text/html": [
       "<div>\n",
       "<style scoped>\n",
       "    .dataframe tbody tr th:only-of-type {\n",
       "        vertical-align: middle;\n",
       "    }\n",
       "\n",
       "    .dataframe tbody tr th {\n",
       "        vertical-align: top;\n",
       "    }\n",
       "\n",
       "    .dataframe thead th {\n",
       "        text-align: right;\n",
       "    }\n",
       "</style>\n",
       "<table border=\"1\" class=\"dataframe\">\n",
       "  <thead>\n",
       "    <tr style=\"text-align: right;\">\n",
       "      <th></th>\n",
       "      <th>ppt (mm)</th>\n",
       "      <th>tmin (degrees C)</th>\n",
       "      <th>tmean (degrees C)</th>\n",
       "      <th>tmax (degrees C)</th>\n",
       "    </tr>\n",
       "  </thead>\n",
       "  <tbody>\n",
       "    <tr>\n",
       "      <th>ppt (mm)</th>\n",
       "      <td>1.000000</td>\n",
       "      <td>0.572513</td>\n",
       "      <td>0.550638</td>\n",
       "      <td>0.527079</td>\n",
       "    </tr>\n",
       "    <tr>\n",
       "      <th>tmin (degrees C)</th>\n",
       "      <td>0.572513</td>\n",
       "      <td>1.000000</td>\n",
       "      <td>0.997297</td>\n",
       "      <td>0.989858</td>\n",
       "    </tr>\n",
       "    <tr>\n",
       "      <th>tmean (degrees C)</th>\n",
       "      <td>0.550638</td>\n",
       "      <td>0.997297</td>\n",
       "      <td>1.000000</td>\n",
       "      <td>0.997611</td>\n",
       "    </tr>\n",
       "    <tr>\n",
       "      <th>tmax (degrees C)</th>\n",
       "      <td>0.527079</td>\n",
       "      <td>0.989858</td>\n",
       "      <td>0.997611</td>\n",
       "      <td>1.000000</td>\n",
       "    </tr>\n",
       "  </tbody>\n",
       "</table>\n",
       "</div>"
      ],
      "text/plain": [
       "                   ppt (mm)  tmin (degrees C)  tmean (degrees C)  \\\n",
       "ppt (mm)           1.000000          0.572513           0.550638   \n",
       "tmin (degrees C)   0.572513          1.000000           0.997297   \n",
       "tmean (degrees C)  0.550638          0.997297           1.000000   \n",
       "tmax (degrees C)   0.527079          0.989858           0.997611   \n",
       "\n",
       "                   tmax (degrees C)  \n",
       "ppt (mm)                   0.527079  \n",
       "tmin (degrees C)           0.989858  \n",
       "tmean (degrees C)          0.997611  \n",
       "tmax (degrees C)           1.000000  "
      ]
     },
     "execution_count": 10,
     "metadata": {},
     "output_type": "execute_result"
    }
   ],
   "source": [
    "# Calculate correlation\n",
    "corr = df.corr(method = 'pearson')\n",
    "corr"
   ]
  },
  {
   "cell_type": "code",
   "execution_count": 11,
   "metadata": {},
   "outputs": [
    {
     "data": {
      "image/png": "[encoded data removed]",
      "text/plain": [
       "<Figure size 432x288 with 2 Axes>"
      ]
     },
     "metadata": {
      "needs_background": "light"
     },
     "output_type": "display_data"
    }
   ],
   "source": [
    "# Plot correlation\n",
    "sns.heatmap(corr, annot = True, cmap = 'coolwarm')\n",
    "plt.savefig('heatmap.png', tight_layout = True)"
   ]
  },
  {
   "cell_type": "code",
   "execution_count": 12,
   "metadata": {},
   "outputs": [
    {
     "data": {
      "text/plain": [
       "<seaborn.axisgrid.JointGrid at 0x1a23adaac8>"
      ]
     },
     "execution_count": 12,
     "metadata": {},
     "output_type": "execute_result"
    },
    {
     "data": {
      "image/png": "[encoded data removed]",
      "text/plain": [
       "<Figure size 432x432 with 3 Axes>"
      ]
     },
     "metadata": {
      "needs_background": "light"
     },
     "output_type": "display_data"
    }
   ],
   "source": [
    "# Plot of distribution\n",
    "sns.jointplot(df['tmean (degrees C)'], df['ppt (mm)'], kind = 'scatter')"
   ]
  },
  {
   "cell_type": "code",
   "execution_count": 13,
   "metadata": {},
   "outputs": [
    {
     "data": {
      "text/plain": [
       "<seaborn.axisgrid.JointGrid at 0x1a23c2ecf8>"
      ]
     },
     "execution_count": 13,
     "metadata": {},
     "output_type": "execute_result"
    },
    {
     "data": {
      "image/png": "[encoded data removed]",
      "text/plain": [
       "<Figure size 432x432 with 3 Axes>"
      ]
     },
     "metadata": {
      "needs_background": "light"
     },
     "output_type": "display_data"
    }
   ],
   "source": [
    "# Another plot of distribution\n",
    "sns.jointplot(df['tmean (degrees C)'], df['ppt (mm)'], kind = 'hex')"
   ]
  },
  {
   "cell_type": "markdown",
   "metadata": {},
   "source": [
    "### Part 2: Random Forest Model\n",
    "### Model for average temperature and precipitation prediction from 1999 to 2008. "
   ]
  },
  {
   "cell_type": "code",
   "execution_count": 14,
   "metadata": {
    "scrolled": true
   },
   "outputs": [
    {
     "name": "stdout",
     "output_type": "stream",
     "text": [
      "(120, 2)\n",
      "(120, 1)\n",
      "(120, 1)\n"
     ]
    }
   ],
   "source": [
    "from sklearn.model_selection import train_test_split\n",
    "\n",
    "# Select columns of x and y\n",
    "dft = df[0:120].T\n",
    "\n",
    "x = dft[5:7].T\n",
    "y1 = dft[3:4].T\n",
    "y2 = dft[1:2].T\n",
    "\n",
    "print (x.shape)\n",
    "print (y1.shape)\n",
    "print (y2.shape)"
   ]
  },
  {
   "cell_type": "code",
   "execution_count": 15,
   "metadata": {
    "scrolled": true
   },
   "outputs": [
    {
     "data": {
      "text/html": [
       "<div>\n",
       "<style scoped>\n",
       "    .dataframe tbody tr th:only-of-type {\n",
       "        vertical-align: middle;\n",
       "    }\n",
       "\n",
       "    .dataframe tbody tr th {\n",
       "        vertical-align: top;\n",
       "    }\n",
       "\n",
       "    .dataframe thead th {\n",
       "        text-align: right;\n",
       "    }\n",
       "</style>\n",
       "<table border=\"1\" class=\"dataframe\">\n",
       "  <thead>\n",
       "    <tr style=\"text-align: right;\">\n",
       "      <th></th>\n",
       "      <th>Year</th>\n",
       "      <th>Month</th>\n",
       "    </tr>\n",
       "  </thead>\n",
       "  <tbody>\n",
       "    <tr>\n",
       "      <th>0</th>\n",
       "      <td>1999</td>\n",
       "      <td>01</td>\n",
       "    </tr>\n",
       "    <tr>\n",
       "      <th>1</th>\n",
       "      <td>1999</td>\n",
       "      <td>02</td>\n",
       "    </tr>\n",
       "    <tr>\n",
       "      <th>2</th>\n",
       "      <td>1999</td>\n",
       "      <td>03</td>\n",
       "    </tr>\n",
       "    <tr>\n",
       "      <th>3</th>\n",
       "      <td>1999</td>\n",
       "      <td>04</td>\n",
       "    </tr>\n",
       "    <tr>\n",
       "      <th>4</th>\n",
       "      <td>1999</td>\n",
       "      <td>05</td>\n",
       "    </tr>\n",
       "  </tbody>\n",
       "</table>\n",
       "</div>"
      ],
      "text/plain": [
       "   Year Month\n",
       "0  1999    01\n",
       "1  1999    02\n",
       "2  1999    03\n",
       "3  1999    04\n",
       "4  1999    05"
      ]
     },
     "execution_count": 15,
     "metadata": {},
     "output_type": "execute_result"
    }
   ],
   "source": [
    "x.head()"
   ]
  },
  {
   "cell_type": "code",
   "execution_count": 16,
   "metadata": {},
   "outputs": [
    {
     "data": {
      "text/html": [
       "<div>\n",
       "<style scoped>\n",
       "    .dataframe tbody tr th:only-of-type {\n",
       "        vertical-align: middle;\n",
       "    }\n",
       "\n",
       "    .dataframe tbody tr th {\n",
       "        vertical-align: top;\n",
       "    }\n",
       "\n",
       "    .dataframe thead th {\n",
       "        text-align: right;\n",
       "    }\n",
       "</style>\n",
       "<table border=\"1\" class=\"dataframe\">\n",
       "  <thead>\n",
       "    <tr style=\"text-align: right;\">\n",
       "      <th></th>\n",
       "      <th>tmean (degrees C)</th>\n",
       "    </tr>\n",
       "  </thead>\n",
       "  <tbody>\n",
       "    <tr>\n",
       "      <th>0</th>\n",
       "      <td>-9</td>\n",
       "    </tr>\n",
       "    <tr>\n",
       "      <th>1</th>\n",
       "      <td>0.3</td>\n",
       "    </tr>\n",
       "    <tr>\n",
       "      <th>2</th>\n",
       "      <td>2.4</td>\n",
       "    </tr>\n",
       "    <tr>\n",
       "      <th>3</th>\n",
       "      <td>9.7</td>\n",
       "    </tr>\n",
       "    <tr>\n",
       "      <th>4</th>\n",
       "      <td>16</td>\n",
       "    </tr>\n",
       "  </tbody>\n",
       "</table>\n",
       "</div>"
      ],
      "text/plain": [
       "  tmean (degrees C)\n",
       "0                -9\n",
       "1               0.3\n",
       "2               2.4\n",
       "3               9.7\n",
       "4                16"
      ]
     },
     "execution_count": 16,
     "metadata": {},
     "output_type": "execute_result"
    }
   ],
   "source": [
    "y1.head()"
   ]
  },
  {
   "cell_type": "code",
   "execution_count": 17,
   "metadata": {},
   "outputs": [
    {
     "data": {
      "text/html": [
       "<div>\n",
       "<style scoped>\n",
       "    .dataframe tbody tr th:only-of-type {\n",
       "        vertical-align: middle;\n",
       "    }\n",
       "\n",
       "    .dataframe tbody tr th {\n",
       "        vertical-align: top;\n",
       "    }\n",
       "\n",
       "    .dataframe thead th {\n",
       "        text-align: right;\n",
       "    }\n",
       "</style>\n",
       "<table border=\"1\" class=\"dataframe\">\n",
       "  <thead>\n",
       "    <tr style=\"text-align: right;\">\n",
       "      <th></th>\n",
       "      <th>ppt (mm)</th>\n",
       "    </tr>\n",
       "  </thead>\n",
       "  <tbody>\n",
       "    <tr>\n",
       "      <th>0</th>\n",
       "      <td>27.43</td>\n",
       "    </tr>\n",
       "    <tr>\n",
       "      <th>1</th>\n",
       "      <td>16.42</td>\n",
       "    </tr>\n",
       "    <tr>\n",
       "      <th>2</th>\n",
       "      <td>26.09</td>\n",
       "    </tr>\n",
       "    <tr>\n",
       "      <th>3</th>\n",
       "      <td>142.35</td>\n",
       "    </tr>\n",
       "    <tr>\n",
       "      <th>4</th>\n",
       "      <td>140.68</td>\n",
       "    </tr>\n",
       "  </tbody>\n",
       "</table>\n",
       "</div>"
      ],
      "text/plain": [
       "  ppt (mm)\n",
       "0    27.43\n",
       "1    16.42\n",
       "2    26.09\n",
       "3   142.35\n",
       "4   140.68"
      ]
     },
     "execution_count": 17,
     "metadata": {},
     "output_type": "execute_result"
    }
   ],
   "source": [
    "y2.head()"
   ]
  },
  {
   "cell_type": "code",
   "execution_count": 18,
   "metadata": {},
   "outputs": [
    {
     "name": "stdout",
     "output_type": "stream",
     "text": [
      "(84, 2)\n",
      "(84, 1)\n",
      "(36, 2)\n",
      "(36, 1)\n"
     ]
    }
   ],
   "source": [
    "# Split training and testing dataset for temperature\n",
    "x1_train, x1_test, y1_train, y1_test = train_test_split(x, y1, test_size = 0.3, random_state=1)\n",
    "print(x1_train.shape)\n",
    "print(y1_train.shape)\n",
    "print(x1_test.shape)\n",
    "print(y1_test.shape)"
   ]
  },
  {
   "cell_type": "code",
   "execution_count": 19,
   "metadata": {},
   "outputs": [
    {
     "name": "stdout",
     "output_type": "stream",
     "text": [
      "(84, 2)\n",
      "(84, 1)\n",
      "(36, 2)\n",
      "(36, 1)\n"
     ]
    }
   ],
   "source": [
    "# Split training and testing dataset for precipitation\n",
    "x2_train, x2_test, y2_train, y2_test = train_test_split(x, y2, test_size = 0.3, random_state=1)\n",
    "print(x2_train.shape)\n",
    "print(y2_train.shape)\n",
    "print(x2_test.shape)\n",
    "print(y2_test.shape)"
   ]
  },
  {
   "cell_type": "code",
   "execution_count": 20,
   "metadata": {},
   "outputs": [],
   "source": [
    "# flat the array\n",
    "y1_train = np.ravel(y1_train)\n",
    "y2_train = np.ravel(y2_train)"
   ]
  },
  {
   "cell_type": "code",
   "execution_count": 21,
   "metadata": {},
   "outputs": [
    {
     "data": {
      "text/plain": [
       "RandomForestRegressor(bootstrap=True, criterion='mse', max_depth=None,\n",
       "           max_features='auto', max_leaf_nodes=None,\n",
       "           min_impurity_decrease=0.0, min_impurity_split=None,\n",
       "           min_samples_leaf=1, min_samples_split=2,\n",
       "           min_weight_fraction_leaf=0.0, n_estimators=1000, n_jobs=None,\n",
       "           oob_score=False, random_state=0, verbose=0, warm_start=False)"
      ]
     },
     "execution_count": 21,
     "metadata": {},
     "output_type": "execute_result"
    }
   ],
   "source": [
    "# fit the model for temperature\n",
    "reg1 = ske.RandomForestRegressor(n_estimators= 1000, random_state= 0)\n",
    "reg1.fit(x1_train, y1_train)"
   ]
  },
  {
   "cell_type": "code",
   "execution_count": 22,
   "metadata": {},
   "outputs": [
    {
     "data": {
      "text/plain": [
       "RandomForestRegressor(bootstrap=True, criterion='mse', max_depth=None,\n",
       "           max_features='auto', max_leaf_nodes=None,\n",
       "           min_impurity_decrease=0.0, min_impurity_split=None,\n",
       "           min_samples_leaf=1, min_samples_split=2,\n",
       "           min_weight_fraction_leaf=0.0, n_estimators=1000, n_jobs=None,\n",
       "           oob_score=False, random_state=0, verbose=0, warm_start=False)"
      ]
     },
     "execution_count": 22,
     "metadata": {},
     "output_type": "execute_result"
    }
   ],
   "source": [
    "# fit the model for precipitation\n",
    "reg2 = ske.RandomForestRegressor(n_estimators= 1000, random_state= 0)\n",
    "reg2.fit(x2_train, y2_train)"
   ]
  },
  {
   "cell_type": "markdown",
   "metadata": {},
   "source": [
    "### Model for average temperature and precipitation prediction from 2009 to 2018. "
   ]
  },
  {
   "cell_type": "code",
   "execution_count": 23,
   "metadata": {},
   "outputs": [
    {
     "data": {
      "text/plain": [
       "RandomForestRegressor(bootstrap=True, criterion='mse', max_depth=None,\n",
       "           max_features='auto', max_leaf_nodes=None,\n",
       "           min_impurity_decrease=0.0, min_impurity_split=None,\n",
       "           min_samples_leaf=1, min_samples_split=2,\n",
       "           min_weight_fraction_leaf=0.0, n_estimators=1000, n_jobs=None,\n",
       "           oob_score=False, random_state=0, verbose=0, warm_start=False)"
      ]
     },
     "execution_count": 23,
     "metadata": {},
     "output_type": "execute_result"
    }
   ],
   "source": [
    "# Repeat model fit for 2009-2018 data points\n",
    "dft = df[120:240].T\n",
    "\n",
    "xr = dft[5:7].T\n",
    "y1r = dft[3:4].T\n",
    "y2r = dft[1:2].T\n",
    "\n",
    "x1r_train, x1r_test, y1r_train, y1r_test = train_test_split(xr, y1r, test_size = 0.3, random_state=1)\n",
    "y1r_train = np.ravel(y1r_train)\n",
    "reg1r = ske.RandomForestRegressor(n_estimators= 1000, random_state= 0)\n",
    "reg1r.fit(x1r_train, y1r_train)\n",
    "\n",
    "x2r_train, x2r_test, y2r_train, y2r_test = train_test_split(xr, y2r, test_size = 0.3, random_state=1)\n",
    "y2r_train = np.ravel(y2r_train)\n",
    "reg2r = ske.RandomForestRegressor(n_estimators= 1000, random_state= 0)\n",
    "reg2r.fit(x2r_train, y2r_train)"
   ]
  },
  {
   "cell_type": "markdown",
   "metadata": {},
   "source": [
    "### Part 3: Evaluation \n",
    "### Temperature prediction from 1999 to 2008"
   ]
  },
  {
   "cell_type": "code",
   "execution_count": 24,
   "metadata": {},
   "outputs": [
    {
     "data": {
      "text/plain": [
       "array([-5.6821, 23.6783, -3.1169, 11.7702, 20.2594,  6.1799, 22.1097,\n",
       "       10.4269, -5.5049,  1.4649, -4.2062, 10.9557,  3.473 , 18.9571,\n",
       "       21.3562, 18.2596,  3.8365, 21.5663, 22.5161,  1.1261, 17.3964,\n",
       "       20.8685, -3.9823, -5.4159, -6.0627, -2.4969, -9.015 , 16.8018,\n",
       "       21.843 , 23.233 , 11.4317, 23.5792,  5.4817, 23.5299,  2.738 ,\n",
       "       21.5343])"
      ]
     },
     "execution_count": 24,
     "metadata": {},
     "output_type": "execute_result"
    }
   ],
   "source": [
    "# Predict temperature\n",
    "y1_pred = reg1.predict(x1_test)\n",
    "y1_pred"
   ]
  },
  {
   "cell_type": "code",
   "execution_count": 25,
   "metadata": {
    "scrolled": true
   },
   "outputs": [
    {
     "name": "stdout",
     "output_type": "stream",
     "text": [
      "Explained variance:  0.9162277997113648\n",
      "Mean absolute error:  2.6364805555555364\n",
      "Mean squared error:  10.179172936388841\n",
      "R-square:  0.9148537952259631\n"
     ]
    }
   ],
   "source": [
    "# Evaluate the model\n",
    "print('Explained variance: ', explained_variance_score(y1_test, y1_pred))\n",
    "print('Mean absolute error: ', mean_absolute_error(y1_test, y1_pred))\n",
    "print('Mean squared error: ', mean_squared_error(y1_test, y1_pred))\n",
    "print('R-square: ', r2_score(y1_test, y1_pred, multioutput = 'variance_weighted'))"
   ]
  },
  {
   "cell_type": "code",
   "execution_count": 26,
   "metadata": {},
   "outputs": [
    {
     "data": {
      "text/plain": [
       "array([-14.79876667,  14.56163333, -12.23356667,   2.65353333,\n",
       "        11.14273333,  -2.93676667,  12.99303333,   1.31023333,\n",
       "       -14.62156667,  -7.65176667, -13.32286667,   1.83903333,\n",
       "        -5.64366667,   9.84043333,  12.23953333,   9.14293333,\n",
       "        -5.28016667,  12.44963333,  13.39943333,  -7.99056667,\n",
       "         8.27973333,  11.75183333, -13.09896667, -14.53256667,\n",
       "       -15.17936667, -11.61356667, -18.13166667,   7.68513333,\n",
       "        12.72633333,  14.11633333,   2.31503333,  14.46253333,\n",
       "        -3.63496667,  14.41323333,  -6.37866667,  12.41763333])"
      ]
     },
     "execution_count": 26,
     "metadata": {},
     "output_type": "execute_result"
    }
   ],
   "source": [
    "# Calculate difference of mean and predicted temperature\n",
    "tmean1 = df['tmean (degrees C)'].mean()\n",
    "diff1 = y1_pred - tmean1\n",
    "diff1"
   ]
  },
  {
   "cell_type": "code",
   "execution_count": 35,
   "metadata": {
    "scrolled": true
   },
   "outputs": [
    {
     "data": {
      "text/plain": [
       "<matplotlib.axes._subplots.AxesSubplot at 0x1a24509668>"
      ]
     },
     "execution_count": 35,
     "metadata": {},
     "output_type": "execute_result"
    },
    {
     "data": {
      "image/png": "[encoded data removed]",
      "text/plain": [
       "<Figure size 432x288 with 1 Axes>"
      ]
     },
     "metadata": {
      "needs_background": "light"
     },
     "output_type": "display_data"
    }
   ],
   "source": [
    "# Plot the difference \n",
    "sns.distplot(diff1, bins = 50)"
   ]
  },
  {
   "cell_type": "markdown",
   "metadata": {},
   "source": [
    "### Precipitation prediction from 1999 to 2008"
   ]
  },
  {
   "cell_type": "code",
   "execution_count": 28,
   "metadata": {},
   "outputs": [
    {
     "name": "stdout",
     "output_type": "stream",
     "text": [
      "Explained variance:  0.333641146324394\n",
      "Mean absolute error:  39.01355111111107\n",
      "Mean squared error:  3049.2610208866345\n",
      "R-square:  0.229183378687147\n"
     ]
    },
    {
     "data": {
      "text/plain": [
       "<matplotlib.axes._subplots.AxesSubplot at 0x1a240e4a90>"
      ]
     },
     "execution_count": 28,
     "metadata": {},
     "output_type": "execute_result"
    },
    {
     "data": {
      "image/png": "[encoded data removed]",
      "text/plain": [
       "<Figure size 432x288 with 1 Axes>"
      ]
     },
     "metadata": {
      "needs_background": "light"
     },
     "output_type": "display_data"
    }
   ],
   "source": [
    "# Repeat the evaluation for precipitation 1999-2008 data\n",
    "y2_pred = reg2.predict(x2_test)\n",
    "print('Explained variance: ', explained_variance_score(y2_test, y2_pred))\n",
    "print('Mean absolute error: ', mean_absolute_error(y2_test, y2_pred))\n",
    "print('Mean squared error: ', mean_squared_error(y2_test, y2_pred))\n",
    "print('R-square: ', r2_score(y2_test, y2_pred, multioutput = 'variance_weighted'))\n",
    "tmean2 = df['ppt (mm)'].mean()\n",
    "diff2 = y2_pred - tmean2\n",
    "type(diff2)\n",
    "sns.distplot(diff2, bins = 50)"
   ]
  },
  {
   "cell_type": "markdown",
   "metadata": {},
   "source": [
    "### Compute how much each feature contributes to decreasing the weighted impurity within a tree. "
   ]
  },
  {
   "cell_type": "code",
   "execution_count": 29,
   "metadata": {},
   "outputs": [
    {
     "data": {
      "text/plain": [
       "array([0.03570776, 0.96429224])"
      ]
     },
     "execution_count": 29,
     "metadata": {},
     "output_type": "execute_result"
    }
   ],
   "source": [
    "# Calculate importances of each feature\n",
    "reg1.feature_importances_"
   ]
  },
  {
   "cell_type": "code",
   "execution_count": 30,
   "metadata": {},
   "outputs": [],
   "source": [
    "fet_ind = np.argsort(reg1.feature_importances_)\n",
    "fet_imp = reg1.feature_importances_[np.argsort(reg1.feature_importances_)][::-1]"
   ]
  },
  {
   "cell_type": "code",
   "execution_count": 31,
   "metadata": {},
   "outputs": [
    {
     "data": {
      "text/plain": [
       "Text(0.5, 1.0, 'Features importance')"
      ]
     },
     "execution_count": 31,
     "metadata": {},
     "output_type": "execute_result"
    },
    {
     "data": {
      "image/png": "[encoded data removed]",
      "text/plain": [
       "<Figure size 432x360 with 1 Axes>"
      ]
     },
     "metadata": {
      "needs_background": "light"
     },
     "output_type": "display_data"
    }
   ],
   "source": [
    "# Plot the importance of each feature\n",
    "fig, ax = plt.subplots(1, 1, figsize = (6, 5))\n",
    "labels = (['Month', 'Year'])\n",
    "pd.Series(fet_imp, index= labels).plot('bar', ax=ax)\n",
    "ax.set_title('Features importance')"
   ]
  },
  {
   "cell_type": "markdown",
   "metadata": {},
   "source": [
    "### Temperature prediction from 2009 to 2018. "
   ]
  },
  {
   "cell_type": "code",
   "execution_count": 32,
   "metadata": {},
   "outputs": [
    {
     "name": "stdout",
     "output_type": "stream",
     "text": [
      "Explained variance:  0.9558186339116481\n",
      "Mean absolute error:  1.8349861111111112\n",
      "Mean squared error:  5.608552584166683\n",
      "R-square:  0.9557178315021038\n"
     ]
    },
    {
     "data": {
      "text/plain": [
       "<matplotlib.axes._subplots.AxesSubplot at 0x1a241fdcc0>"
      ]
     },
     "execution_count": 32,
     "metadata": {},
     "output_type": "execute_result"
    },
    {
     "data": {
      "image/png": "[encoded data removed]",
      "text/plain": [
       "<Figure size 432x288 with 1 Axes>"
      ]
     },
     "metadata": {
      "needs_background": "light"
     },
     "output_type": "display_data"
    }
   ],
   "source": [
    "# Repeat the evaluation for temperature 2009-2018 data\n",
    "y1r_pred = reg1r.predict(x1r_test)\n",
    "\n",
    "print('Explained variance: ', explained_variance_score(y1r_test, y1r_pred))\n",
    "print('Mean absolute error: ', mean_absolute_error(y1r_test, y1r_pred))\n",
    "print('Mean squared error: ', mean_squared_error(y1r_test, y1r_pred))\n",
    "print('R-square: ', r2_score(y1r_test, y1r_pred, multioutput = 'variance_weighted'))\n",
    "\n",
    "tmean1r = df['tmean (degrees C)'].mean()\n",
    "diff1r = y1r_pred - tmean1r\n",
    "sns.distplot(diff1r, bins = 50)"
   ]
  },
  {
   "cell_type": "markdown",
   "metadata": {},
   "source": [
    "### Precipitation prediction from 2009 to 2018. "
   ]
  },
  {
   "cell_type": "code",
   "execution_count": 33,
   "metadata": {},
   "outputs": [
    {
     "name": "stdout",
     "output_type": "stream",
     "text": [
      "Explained variance:  0.21801527362798745\n",
      "Mean absolute error:  43.09796027777792\n",
      "Mean squared error:  3812.2892846932396\n",
      "R-square:  0.21801240550381148\n"
     ]
    },
    {
     "data": {
      "text/plain": [
       "<matplotlib.axes._subplots.AxesSubplot at 0x1a24520198>"
      ]
     },
     "execution_count": 33,
     "metadata": {},
     "output_type": "execute_result"
    },
    {
     "data": {
      "image/png": "[encoded data removed]",
      "text/plain": [
       "<Figure size 432x288 with 1 Axes>"
      ]
     },
     "metadata": {
      "needs_background": "light"
     },
     "output_type": "display_data"
    }
   ],
   "source": [
    "# Repeat the evaluation for precipitation 2009-2018 data\n",
    "y2r_pred = reg2r.predict(x2r_test)\n",
    "\n",
    "print('Explained variance: ', explained_variance_score(y2r_test, y2r_pred))\n",
    "print('Mean absolute error: ', mean_absolute_error(y2r_test, y2r_pred))\n",
    "print('Mean squared error: ', mean_squared_error(y2r_test, y2r_pred))\n",
    "print('R-square: ', r2_score(y2r_test, y2r_pred, multioutput = 'variance_weighted'))\n",
    "\n",
    "tmean2r = df['ppt (mm)'].mean()\n",
    "diff2r = y2r_pred - tmean2r\n",
    "sns.distplot(diff2r, bins = 50)"
   ]
  },
  {
   "cell_type": "markdown",
   "metadata": {},
   "source": [
    "### Part 4: Tool for User"
   ]
  },
  {
   "cell_type": "code",
   "execution_count": 34,
   "metadata": {},
   "outputs": [],
   "source": [
    "# yet to complete"
   ]
  },
  {
   "cell_type": "markdown",
   "metadata": {},
   "source": [
    "### Conclusion\n",
    "The prediction accuracy of temperature in late 90's is calculated to be about 91.48%, and in the recent decade is about 95.57%. The plot of difference between predicted and average temperature data shows large difference, which indicate the model is necessary and useful for temperature prediction. The prediction accuracy of precipitation in late 90's is about 22.9%, and in the recent decade is about 21.8%. The plot of difference between predicted and average precipitation data shows little difference, which indicate the model is unnecessary and not useful for precipitation prediction. Besides, there is no clear trend and difference between the two decades. Part 5 shows that month has much higher weight in the trees than year, which is reasonable that temperature changes more in different month than year. Thus, base on the accuracy of each model, we can conclude that average temperature have much higher accuracy which is required and reliable. On the other hand, the accuracy of precipitation prediction is too low to show enough evidence for solid prediction. "
   ]
  }
 ],
 "metadata": {
  "kernelspec": {
   "display_name": "Python 3",
   "language": "python",
   "name": "python3"
  },
  "language_info": {
   "codemirror_mode": {
    "name": "ipython",
    "version": 3
   },
   "file_extension": ".py",
   "mimetype": "text/x-python",
   "name": "python",
   "nbconvert_exporter": "python",
   "pygments_lexer": "ipython3",
   "version": "3.7.3"
  }
 },
 "nbformat": 4,
 "nbformat_minor": 2
}
